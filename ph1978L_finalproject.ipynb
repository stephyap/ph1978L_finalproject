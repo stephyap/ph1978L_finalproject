{
 "cells": [
  {
   "cell_type": "markdown",
   "id": "44bcf8b9",
   "metadata": {},
   "source": [
    "# PH1978L Final Group Project\n",
    "Authors: Chiu-Feng Yap, Allison Shay, TBD"
   ]
  },
  {
   "cell_type": "code",
   "execution_count": null,
   "id": "7f8b5003",
   "metadata": {},
   "outputs": [],
   "source": []
  }
 ],
 "metadata": {
  "kernelspec": {
   "display_name": "Python 3",
   "language": "python",
   "name": "python3"
  },
  "language_info": {
   "codemirror_mode": {
    "name": "ipython",
    "version": 3
   },
   "file_extension": ".py",
   "mimetype": "text/x-python",
   "name": "python",
   "nbconvert_exporter": "python",
   "pygments_lexer": "ipython3",
   "version": "3.8.8"
  }
 },
 "nbformat": 4,
 "nbformat_minor": 5
}
